{
 "cells": [
  {
   "cell_type": "markdown",
   "metadata": {},
   "source": [
    "#Theano tutorial\n",
    "\n",
    "## Quién soy\n",
    "\n",
    "## Contenidos\n",
    "\n",
    "  * Básico\n",
    "    * Funciones\n",
    "    * theano.tensor\n",
    "    * Variables globales\n",
    "    * Updates\n",
    "    * Gradiente\n",
    "    * Debuggong\n",
    "    * Using the CPU y GPU "
   ]
  },
  {
   "cell_type": "code",
   "execution_count": null,
   "metadata": {
    "collapsed": true
   },
   "outputs": [],
   "source": []
  }
 ],
 "metadata": {
  "kernelspec": {
   "display_name": "Python 2",
   "language": "python",
   "name": "python2"
  },
  "language_info": {
   "codemirror_mode": {
    "name": "ipython",
    "version": 2
   },
   "file_extension": ".py",
   "mimetype": "text/x-python",
   "name": "python",
   "nbconvert_exporter": "python",
   "pygments_lexer": "ipython2",
   "version": "2.7.11"
  }
 },
 "nbformat": 4,
 "nbformat_minor": 0
}
