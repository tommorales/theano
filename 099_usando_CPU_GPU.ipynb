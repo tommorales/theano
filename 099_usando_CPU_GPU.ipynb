{
 "cells": [
  {
   "cell_type": "code",
   "execution_count": 8,
   "metadata": {
    "collapsed": true
   },
   "outputs": [],
   "source": [
    "import numpy as np\n",
    "import theano\n",
    "from theano import tensor as T"
   ]
  },
  {
   "cell_type": "markdown",
   "metadata": {},
   "source": [
    "# CPU y GPU\n",
    "\n",
    "#### Introducción\n",
    "\n",
    "Theano puede compilar en diferentes hardware de forma transparente. \n",
    "\n",
    "El fichero **.theanorc** ubicado en $HOME define en que dispositivo se ejecutará el programa de theano. Este fichero tiene formato de ConfigParser y puede ser modificado modificando sus \"definiciones\" o en tiempo de ejecucción incluyendo un flag.\n",
    "\n",
    "\n",
    "\n",
    "\n",
    "#### Variables de entorno\n",
    "\n",
    " * **THEANO_FLAGS**\n",
    " \n",
    "    * **CPU**  \n",
    "     \n",
    "         THEANO_FLAGS=device=cpu,floatX=float64 python your_script.py\n",
    "     \n",
    "    * **GPU**\n",
    "         \n",
    "         THEANO_FLAGS=device=gpu,floatX=float32 python your_script.py\n",
    " \n",
    " \n",
    " * **THEANORC**\n",
    " \n",
    "     * **CPU**\n",
    "         \n",
    "        [global]\n",
    "        floatX = float64\n",
    "        device = cpu\n",
    "        \n",
    "        [mvcc]\n",
    "         \n",
    "     * **GPU**\n",
    "\n",
    "        [global]\n",
    "        floatX = float32\n",
    "        device = gpu\n",
    "        \n",
    "        [mvcc]\n",
    "\n",
    "\n",
    "#### Links\n",
    "\n",
    " * http://nbviewer.ipython.org/github/craffel/theano-tutorial/blob/master/Theano%20Tutorial.ipynb"
   ]
  },
  {
   "cell_type": "markdown",
   "metadata": {},
   "source": [
    "Los valores que por defecto está defino en theano son:"
   ]
  },
  {
   "cell_type": "code",
   "execution_count": 5,
   "metadata": {
    "collapsed": false
   },
   "outputs": [
    {
     "name": "stdout",
     "output_type": "stream",
     "text": [
      "cpu\n",
      "float64\n"
     ]
    }
   ],
   "source": [
    "print(theano.config.device)\n",
    "print(theano.config.floatX)"
   ]
  },
  {
   "cell_type": "markdown",
   "metadata": {},
   "source": [
    "### Ejemplo: \n",
    "\n",
    "Queremos realizar la siguiente operación matricial $y = A x + b$ definiendo en cada momento el tipo de variable de theano. Para ello en lugar de definir un fichero .theanorc, o introducir una variable de entorno THEANO_FLAG en tiempo de ejecución se define cada variable de forma individual siguiendo el formalismo de numpy: nombre de variable, valores, tipo de dato de los valores."
   ]
  },
  {
   "cell_type": "code",
   "execution_count": 21,
   "metadata": {
    "collapsed": false
   },
   "outputs": [
    {
     "name": "stdout",
     "output_type": "stream",
     "text": [
      "Valor de la función con b=[4,5]\n",
      "[array([ 18.,  37.]), array(91.0)]\n",
      "\n",
      "Valor de la funcion con valor de b por defecto [0, 0]\n",
      "[array([ 14.,  32.]), array(91.0)]\n"
     ]
    }
   ],
   "source": [
    "A = T.matrix('A')\n",
    "x = T.vector('x')\n",
    "b = T.vector('b')\n",
    "y = T.dot(A, x) + b\n",
    "\n",
    "z = T.sum(A**2)\n",
    "\n",
    "b_default = np.array([0, 0], dtype=theano.config.floatX)\n",
    "linear_mix = theano.function([A, x, theano.Param(b, default=b_default)],\n",
    "                             [y, z])\n",
    "# Definimos las variables de entrada.\n",
    "A = np.array([[1,2,3],[4,5,6]], dtype=theano.config.floatX)\n",
    "x = np.array([1, 2, 3], dtype=theano.config.floatX)\n",
    "b = np.array([4,5], dtype=theano.config.floatX)\n",
    "# Llamamos a la función.\n",
    "print(\"Valor de la función con b=[4,5]\") \n",
    "print(linear_mix(A, x, b)) \n",
    "# Llamamos a la función con el valor de b por defecto.\n",
    "print; print(\"Valor de la funcion con valor de b por defecto [0, 0]\")\n",
    "print(linear_mix(A, x))"
   ]
  },
  {
   "cell_type": "code",
   "execution_count": null,
   "metadata": {
    "collapsed": false
   },
   "outputs": [],
   "source": [
    " "
   ]
  },
  {
   "cell_type": "code",
   "execution_count": null,
   "metadata": {
    "collapsed": true
   },
   "outputs": [],
   "source": []
  }
 ],
 "metadata": {
  "kernelspec": {
   "display_name": "Python 2",
   "language": "python",
   "name": "python2"
  },
  "language_info": {
   "codemirror_mode": {
    "name": "ipython",
    "version": 2
   },
   "file_extension": ".py",
   "mimetype": "text/x-python",
   "name": "python",
   "nbconvert_exporter": "python",
   "pygments_lexer": "ipython2",
   "version": "2.7.11"
  }
 },
 "nbformat": 4,
 "nbformat_minor": 0
}
